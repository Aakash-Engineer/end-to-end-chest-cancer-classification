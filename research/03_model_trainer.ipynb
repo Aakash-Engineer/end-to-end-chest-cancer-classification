{
 "cells": [
  {
   "cell_type": "code",
   "execution_count": null,
   "metadata": {},
   "outputs": [],
   "source": [
    "import os\n",
    "\n",
    "os.chdir('../')"
   ]
  },
  {
   "cell_type": "code",
   "execution_count": 6,
   "metadata": {},
   "outputs": [
    {
     "name": "stdout",
     "output_type": "stream",
     "text": [
      "[WinError 2] The system cannot find the file specified: 'end-to-end-chest-cancer-classification/'\n",
      "e:\\Github repositories\\end-to-end-chest-cancer-classification\n"
     ]
    },
    {
     "name": "stderr",
     "output_type": "stream",
     "text": [
      "e:\\Jupyter\\envs\\eeccc\\lib\\site-packages\\IPython\\core\\magics\\osm.py:393: UserWarning: using bookmarks requires you to install the `pickleshare` library.\n",
      "  bkms = self.shell.db.get('bookmarks', {})\n"
     ]
    }
   ],
   "source": [
    "%cd end-to-end-chest-cancer-classification/"
   ]
  },
  {
   "cell_type": "code",
   "execution_count": 7,
   "metadata": {},
   "outputs": [],
   "source": [
    "from  dataclasses import dataclass\n",
    "from pathlib import Path\n",
    "\n",
    "@dataclass(frozen=True)\n",
    "class TrainingConfig:\n",
    "    root_dir: Path\n",
    "    trained_model_path: Path\n",
    "    updated_base_model_path: Path\n",
    "    training_data: Path\n",
    "    params_epochs: int\n",
    "    params_batch_size: int\n",
    "    params_learning_rate: float\n",
    "    params_is_augmentation: bool\n",
    "    params_image_size: list"
   ]
  },
  {
   "cell_type": "code",
   "execution_count": 8,
   "metadata": {},
   "outputs": [],
   "source": [
    "from ChestClassifier.constants import *\n",
    "from ChestClassifier.utils.common import read_yaml, create_directories\n",
    "\n",
    "\n",
    "class ConfigurationManager:\n",
    "    def __init__(self,\n",
    "                 config_filepath=CONFIG_FILE_PATH,\n",
    "                 params_filepath=PARAMS_FILE_PATH):\n",
    "        self.config = read_yaml(config_filepath)\n",
    "        self.params = read_yaml(params_filepath)\n",
    "\n",
    "        create_directories([self.config.artifacts_root])\n",
    "\n",
    "    def get_trainig_config(self):\n",
    "        training = self.config.training\n",
    "        prepare_base_model = self.config.prepare_base_model\n",
    "        params = self.params\n",
    "        training_data = os.path.join(self.config.data_ingestion.unzip_dir, 'Chest-CT-Scan-data')\n",
    "        create_directories([training.root_dir])\n",
    "\n",
    "        return TrainingConfig(\n",
    "            root_dir=training.root_dir,\n",
    "            trained_model_path=training.trained_model_path,\n",
    "            updated_base_model_path=prepare_base_model.updated_base_model_path,\n",
    "            training_data=training_data,\n",
    "            params_epochs=params.EPOCHS,\n",
    "            params_batch_size=params.BATCH_SIZE,\n",
    "            params_learning_rate=params.LEARNING_RATE,\n",
    "            params_image_size=params.IMAGE_SIZE,\n",
    "            params_is_augmentation=params.AUGMENTATION\n",
    "        )"
   ]
  },
  {
   "cell_type": "code",
   "execution_count": 9,
   "metadata": {},
   "outputs": [],
   "source": [
    "import os\n",
    "import urllib.request as request\n",
    "from zipfile import ZipFile\n",
    "import tensorflow as tf\n",
    "import time"
   ]
  },
  {
   "cell_type": "code",
   "execution_count": 14,
   "metadata": {},
   "outputs": [],
   "source": [
    "class Training:\n",
    "    def __init__(self, config: TrainingConfig):\n",
    "        self.config = config\n",
    "\n",
    "    def get_base_model(self):\n",
    "        self.model = tf.keras.models.load_model(self.config.updated_base_model_path)\n",
    "\n",
    "    def train_valid_generator(self):\n",
    "        datagenerator_kwargs = dict(\n",
    "            rescale = 1./255,\n",
    "            validation_split=0.20\n",
    "        )\n",
    "        dataflow_kwargs = dict(\n",
    "            target_size=self.config.params_image_size[:-1],\n",
    "            batch_size=self.config.params_batch_size,\n",
    "            interpolation=\"bilinear\"\n",
    "        )\n",
    "\n",
    "        valid_datagenerator = tf.keras.preprocessing.image.ImageDataGenerator(\n",
    "            **datagenerator_kwargs\n",
    "        )\n",
    "        dataflow_kwargs = dict(\n",
    "            target_size=self.config.params_image_size[:-1],\n",
    "            batch_size=self.config.params_batch_size,\n",
    "            interpolation=\"bilinear\"\n",
    "        )\n",
    "\n",
    "        valid_datagenerator = tf.keras.preprocessing.image.ImageDataGenerator(\n",
    "            **datagenerator_kwargs\n",
    "        )\n",
    "        self.valid_generator = valid_datagenerator.flow_from_directory(\n",
    "            directory=self.config.training_data,\n",
    "            subset=\"validation\",\n",
    "            shuffle=False,\n",
    "            class_mode=\"sparse\",\n",
    "            **dataflow_kwargs\n",
    "        )\n",
    "        if self.config.params_is_augmentation:\n",
    "            train_datagenerator = tf.keras.preprocessing.image.ImageDataGenerator(\n",
    "                rotation_range=40,\n",
    "                horizontal_flip=True,\n",
    "                width_shift_range=0.2,\n",
    "                height_shift_range=0.2,\n",
    "                shear_range=0.2,\n",
    "                zoom_range=0.2,\n",
    "                **datagenerator_kwargs\n",
    "            )\n",
    "        else:\n",
    "            train_datagenerator = valid_datagenerator\n",
    "\n",
    "        self.train_generator = train_datagenerator.flow_from_directory(\n",
    "            directory=self.config.training_data,\n",
    "            subset=\"training\",\n",
    "            shuffle=True,\n",
    "            class_mode=\"sparse\",\n",
    "            **dataflow_kwargs\n",
    "        )\n",
    "        print(f\"Train generator batch size: {self.train_generator.batch_size}\")\n",
    "        print(f\"Valid generator batch size: {self.valid_generator.batch_size}\")\n",
    "\n",
    "\n",
    "\n",
    "    @staticmethod\n",
    "    def save_model(path: Path, model: tf.keras.Model):\n",
    "        model.save(path)\n",
    "\n",
    "    \n",
    "    def train(self):\n",
    "        self.steps_per_epoch = self.train_generator.samples // self.train_generator.batch_size\n",
    "        self.validation_steps = self.valid_generator.samples // self.valid_generator.batch_size\n",
    "\n",
    "        self.model.fit(\n",
    "            self.train_generator,\n",
    "            epochs=self.config.params_epochs,\n",
    "            steps_per_epoch=self.steps_per_epoch,\n",
    "            validation_steps=self.validation_steps,\n",
    "            validation_data=self.valid_generator\n",
    "        )\n",
    "\n",
    "        self.save_model(\n",
    "            path=self.config.trained_model_path,\n",
    "            model=self.model\n",
    "        )"
   ]
  },
  {
   "cell_type": "code",
   "execution_count": 15,
   "metadata": {},
   "outputs": [
    {
     "name": "stdout",
     "output_type": "stream",
     "text": [
      "[2024-11-15 20:40:19,147: INFO: common: yaml file: config\\config.yaml loaded successfully]\n",
      "[2024-11-15 20:40:19,153: INFO: common: yaml file: params.yaml loaded successfully]\n",
      "[2024-11-15 20:40:19,157: INFO: common: created directory at: artifacts]\n",
      "[2024-11-15 20:40:19,158: INFO: common: created directory at: artifacts/training]\n",
      "Found 68 images belonging to 2 classes.\n",
      "Found 275 images belonging to 2 classes.\n",
      "Train generator batch size: 32\n",
      "Valid generator batch size: 32\n",
      "Epoch 1/10\n",
      "8/8 [==============================] - 14s 2s/step - loss: 0.8395 - accuracy: 0.6016 - val_loss: 0.7111 - val_accuracy: 1.0000\n",
      "Epoch 2/10\n",
      "8/8 [==============================] - 9s 1s/step - loss: 0.6738 - accuracy: 0.6543 - val_loss: 0.6575 - val_accuracy: 0.1406\n",
      "Epoch 3/10\n",
      "8/8 [==============================] - 9s 1s/step - loss: 0.5106 - accuracy: 0.5267 - val_loss: 0.4478 - val_accuracy: 0.6094\n",
      "Epoch 4/10\n",
      "8/8 [==============================] - 9s 1s/step - loss: 0.4818 - accuracy: 0.7243 - val_loss: 0.3896 - val_accuracy: 0.5469\n",
      "Epoch 5/10\n",
      "8/8 [==============================] - 9s 1s/step - loss: 0.4262 - accuracy: 0.5597 - val_loss: 0.3527 - val_accuracy: 0.5312\n",
      "Epoch 6/10\n",
      "8/8 [==============================] - 10s 1s/step - loss: 0.4270 - accuracy: 0.5761 - val_loss: 0.3157 - val_accuracy: 0.5312\n",
      "Epoch 7/10\n",
      "8/8 [==============================] - 11s 1s/step - loss: 0.3848 - accuracy: 0.5309 - val_loss: 0.2929 - val_accuracy: 0.5156\n",
      "Epoch 8/10\n",
      "8/8 [==============================] - 10s 1s/step - loss: 0.3697 - accuracy: 0.5802 - val_loss: 0.2700 - val_accuracy: 0.5469\n",
      "Epoch 9/10\n",
      "8/8 [==============================] - 11s 1s/step - loss: 0.3467 - accuracy: 0.5844 - val_loss: 0.2424 - val_accuracy: 0.5469\n",
      "Epoch 10/10\n",
      "8/8 [==============================] - 10s 1s/step - loss: 0.3184 - accuracy: 0.5226 - val_loss: 0.2649 - val_accuracy: 0.5156\n"
     ]
    }
   ],
   "source": [
    "try:\n",
    "    config = ConfigurationManager()\n",
    "    training_config = config.get_trainig_config()\n",
    "    training = Training(config=training_config)\n",
    "    training.get_base_model()\n",
    "    training.train_valid_generator()\n",
    "    training.train()\n",
    "    \n",
    "except Exception as e:\n",
    "    raise e"
   ]
  },
  {
   "cell_type": "code",
   "execution_count": null,
   "metadata": {},
   "outputs": [],
   "source": []
  },
  {
   "cell_type": "code",
   "execution_count": null,
   "metadata": {},
   "outputs": [],
   "source": []
  },
  {
   "cell_type": "code",
   "execution_count": null,
   "metadata": {},
   "outputs": [],
   "source": []
  }
 ],
 "metadata": {
  "kernelspec": {
   "display_name": "eeccc",
   "language": "python",
   "name": "python3"
  },
  "language_info": {
   "codemirror_mode": {
    "name": "ipython",
    "version": 3
   },
   "file_extension": ".py",
   "mimetype": "text/x-python",
   "name": "python",
   "nbconvert_exporter": "python",
   "pygments_lexer": "ipython3",
   "version": "3.9.20"
  }
 },
 "nbformat": 4,
 "nbformat_minor": 2
}
